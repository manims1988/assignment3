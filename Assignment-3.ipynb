{
 "cells": [
  {
   "cell_type": "markdown",
   "id": "3d7f4d89-4b18-4156-8544-1826245be5c3",
   "metadata": {},
   "source": [
    "1. Why are functions advantageous to have in your programs?"
   ]
  },
  {
   "cell_type": "code",
   "execution_count": 1,
   "id": "6dc7953c-76ae-4d8e-87c0-e5b393c9d0e5",
   "metadata": {},
   "outputs": [
    {
     "name": "stdout",
     "output_type": "stream",
     "text": [
      "As per my understanding using function can be mainly used in two different ways \n",
      "1. code reusability \n",
      "2. code readability\n"
     ]
    }
   ],
   "source": [
    "# Answer \n",
    "\n",
    "print(\"As per my understanding functions can be mainly used in two different ways \\n1. code reusability \\n2. code readability\")"
   ]
  },
  {
   "cell_type": "markdown",
   "id": "45e2615e-3789-49ad-b30e-690b71f9edfe",
   "metadata": {},
   "source": [
    "2. When does the code in a function run: when it's specified or when it's called?"
   ]
  },
  {
   "cell_type": "code",
   "execution_count": 3,
   "id": "da524724-8b8f-4ae2-8d4d-ac15a04a7131",
   "metadata": {},
   "outputs": [
    {
     "name": "stdout",
     "output_type": "stream",
     "text": [
      "When its called function will be executed\n",
      "executed\n"
     ]
    }
   ],
   "source": [
    "# Answer\n",
    "\n",
    "print('When its called function will be executed')\n",
    "\n",
    "# function specified \n",
    "def example():\n",
    "    return 'executed'\n",
    "\n",
    "# function called here\n",
    "print(example())"
   ]
  },
  {
   "cell_type": "markdown",
   "id": "f089acc4-d0f8-4462-99a7-8664b4d6d5e1",
   "metadata": {},
   "source": [
    "3. What statement creates a function?"
   ]
  },
  {
   "cell_type": "code",
   "execution_count": 5,
   "id": "3c1ea08c-19a7-4f90-8058-1a18e74e9469",
   "metadata": {},
   "outputs": [
    {
     "name": "stdout",
     "output_type": "stream",
     "text": [
      "\"def\" is a keyword and using this we can create a function\n"
     ]
    }
   ],
   "source": [
    "# Answer \n",
    "\n",
    "print('\"def\" is a keyword and using this we can create a function')"
   ]
  },
  {
   "cell_type": "markdown",
   "id": "16dc6dd7-e88f-409a-b92b-d733a316ad9b",
   "metadata": {},
   "source": [
    "4. What is the difference between a function and a function call?"
   ]
  },
  {
   "cell_type": "code",
   "execution_count": 7,
   "id": "73c57411-9103-4cf3-a0b0-cfbbbcabdb6e",
   "metadata": {},
   "outputs": [
    {
     "name": "stdout",
     "output_type": "stream",
     "text": [
      "As per my understanding \"Function\" is a block code to perform certain operation and its written inside the program.\n",
      "As per my understanding \"Function call\" is used to call and execute that particular function\n",
      "for example\n",
      "hi python\n"
     ]
    }
   ],
   "source": [
    "# Answer \n",
    "\n",
    "print('As per my understanding \"Function\" is a block code to perform certain operation and its written inside the program.')\n",
    "print('As per my understanding \"Function call\" is used to call and execute that particular function')\n",
    "print('for example')\n",
    "\n",
    "# function\n",
    "def hello(name):\n",
    "    return 'hi ' + name\n",
    "\n",
    "# function call \n",
    "print(hello('python')) "
   ]
  },
  {
   "cell_type": "markdown",
   "id": "d04f2ff8-0e05-4d72-b9aa-80550101a8d0",
   "metadata": {},
   "source": [
    "5. How many global scopes are there in a Python program? How many local scopes?"
   ]
  },
  {
   "cell_type": "code",
   "execution_count": 17,
   "id": "7289a0b6-504c-4cb6-ac9d-48dc7f1ca662",
   "metadata": {},
   "outputs": [
    {
     "name": "stdout",
     "output_type": "stream",
     "text": [
      "As per my understanding there is one Global and two Local variables are available\n",
      "1. Global\n",
      "2. local\n",
      "3. nonlocal\n",
      "find the below example\n",
      "before change y value is: 10\n",
      "after change y value is: 11\n",
      "z value is: 5\n",
      "y value is: 11\n",
      "x value is: 20\n"
     ]
    }
   ],
   "source": [
    "# Answer \n",
    "\n",
    "print('As per my understanding there is one Global and two Local variables are available')\n",
    "print('1. Global')\n",
    "print('2. local')\n",
    "print('3. nonlocal')\n",
    "print('find the below example')\n",
    "\n",
    "# Global variable\n",
    "x = 20 \n",
    "\n",
    "def outer():\n",
    "    # enclosed variable\n",
    "    y = 10 \n",
    "    \n",
    "    def inner():\n",
    "        # local variable\n",
    "        z = 5 \n",
    "             \n",
    "        # non local variable \n",
    "        nonlocal y \n",
    "        print('before change y value is:',y)\n",
    "        \n",
    "        y = y + 1\n",
    "        \n",
    "        print('after change y value is:',y)\n",
    "        \n",
    "        return 'z value is: ' + str(z)\n",
    "    print(inner())\n",
    "    return 'y value is: ' + str(y)\n",
    "\n",
    "print(outer())\n",
    "print('x value is:',x)"
   ]
  },
  {
   "cell_type": "markdown",
   "id": "585e3594-cc1d-4933-b4d1-e748c0bf50ad",
   "metadata": {},
   "source": [
    "6. What happens to variables in a local scope when the function call returns?"
   ]
  },
  {
   "cell_type": "code",
   "execution_count": 18,
   "id": "1f9c6778-8fd9-4e29-8442-1c333bf7c63e",
   "metadata": {},
   "outputs": [
    {
     "name": "stdout",
     "output_type": "stream",
     "text": [
      "local variable can be accessed within the function and its not accessed outside the function\n",
      "there scope is within the function\n",
      "8\n"
     ]
    }
   ],
   "source": [
    "# Answer \n",
    "\n",
    "print('local variable can be accessed within the function and its not accessed outside the function')\n",
    "print('there scope is within the function')\n",
    "def inner():\n",
    "    # local variables defined \n",
    "    x = 5\n",
    "    y = 3\n",
    "    z = x + y\n",
    "    return z \n",
    "\n",
    "print(inner())"
   ]
  },
  {
   "cell_type": "markdown",
   "id": "7ec75469-0905-4d40-895f-9be6037430a1",
   "metadata": {},
   "source": [
    "7. What is the concept of a return value? Is it possible to have a return value in an expression?"
   ]
  },
  {
   "cell_type": "code",
   "execution_count": 5,
   "id": "84eb5b36-95fd-4686-8c43-962260b2774d",
   "metadata": {},
   "outputs": [],
   "source": [
    "# Answer \n",
    "# Below i have classified with three examples. "
   ]
  },
  {
   "cell_type": "code",
   "execution_count": 20,
   "id": "1f087ab9-84fe-4f04-ada5-c6d92d3e76fd",
   "metadata": {},
   "outputs": [
    {
     "name": "stdout",
     "output_type": "stream",
     "text": [
      "the out_val is: 9\n"
     ]
    }
   ],
   "source": [
    "# Method 1 \n",
    "# Function with return value. Function will always return some value. \n",
    "\n",
    "def add_sum(a, b):\n",
    "    c = a + b\n",
    "    return c\n",
    "\n",
    "out_val = add_sum(4,5)\n",
    "print('the out_val is:',out_val)"
   ]
  },
  {
   "cell_type": "code",
   "execution_count": 19,
   "id": "f7b6cdf1-0887-430c-bae1-d62db022c2ee",
   "metadata": {},
   "outputs": [
    {
     "name": "stdout",
     "output_type": "stream",
     "text": [
      "the answer is: None\n"
     ]
    }
   ],
   "source": [
    "# Method 2 \n",
    "# Function without return value.This function returns None only\n",
    "\n",
    "def add_sum(a, b):\n",
    "    c = a + b\n",
    "    \n",
    "output = add_sum(4,5)\n",
    "print('the answer is:',output)"
   ]
  },
  {
   "cell_type": "code",
   "execution_count": 21,
   "id": "3c6a4076-abd9-4864-91ba-2d4aa80fe724",
   "metadata": {},
   "outputs": [
    {
     "name": "stdout",
     "output_type": "stream",
     "text": [
      "9\n",
      "the answer is: None\n"
     ]
    }
   ],
   "source": [
    "# Method 3\n",
    "# since we are printing values inside the function so None is expected \n",
    "\n",
    "def add_sum(a, b):\n",
    "    c = a + b\n",
    "    print(c)\n",
    "    \n",
    "out_ans = add_sum(4,5)\n",
    "print('the answer is:', out_ans)"
   ]
  },
  {
   "cell_type": "markdown",
   "id": "8f291262-f4a0-4d82-b934-5e1c8332b37c",
   "metadata": {},
   "source": [
    "8. If a function does not have a return statement, what is the return value of a call to that function?"
   ]
  },
  {
   "cell_type": "code",
   "execution_count": 9,
   "id": "3e65695d-c136-464a-bf0e-a2a47bb04372",
   "metadata": {},
   "outputs": [
    {
     "name": "stdout",
     "output_type": "stream",
     "text": [
      "None\n"
     ]
    }
   ],
   "source": [
    "# Answer \n",
    "# it would be None because by default the function will always return the value\n",
    "\n",
    "def add_sum(a, b):\n",
    "    c = a + b\n",
    "    \n",
    "print(add_sum(4,5))"
   ]
  },
  {
   "cell_type": "markdown",
   "id": "bc7419e6-80b0-4702-9eba-4de32b977170",
   "metadata": {},
   "source": [
    "9. How do you make a function variable refer to the global variable?"
   ]
  },
  {
   "cell_type": "code",
   "execution_count": 49,
   "id": "a8ab983d-9cbb-4715-8e8d-4fc9de5c882b",
   "metadata": {},
   "outputs": [
    {
     "name": "stdout",
     "output_type": "stream",
     "text": [
      "using \"Global\" keyword we can convert local variable to global variable\n",
      "value of x is: 10\n",
      "check_one y value is: 5\n",
      "check_one modified y value is: 7\n",
      "modified value of y is: 7\n"
     ]
    }
   ],
   "source": [
    "# Answer \n",
    "print('using \"Global\" keyword we can convert local variable to global variable')\n",
    "\n",
    "# Global variable\n",
    "x = 10\n",
    "\n",
    "# function definition \n",
    "def check_one():\n",
    "    # local variable \n",
    "    global y \n",
    "    y = 5\n",
    "    print('check_one y value is:',y)\n",
    "    y = y + 2\n",
    "    print('check_one modified y value is:',y)\n",
    "\n",
    "print('value of x is:',x)\n",
    "check_one()    \n"
   ]
  },
  {
   "cell_type": "markdown",
   "id": "fc63e956-17d0-4360-82a1-90cdf8ad8573",
   "metadata": {},
   "source": [
    "10. What is the data type of None?"
   ]
  },
  {
   "cell_type": "code",
   "execution_count": 10,
   "id": "e9527bde-6d2d-4f73-aebb-38c621ddc158",
   "metadata": {},
   "outputs": [
    {
     "name": "stdout",
     "output_type": "stream",
     "text": [
      "None is a data type and it has None Type value, which means the value is \"NULL\" \n"
     ]
    }
   ],
   "source": [
    "# Answer \n",
    "\n",
    "print('None is a data type and it has None Type value, which means the value is \"NULL\" ')"
   ]
  },
  {
   "cell_type": "markdown",
   "id": "2bdf3d6f-5633-4f8f-b6ce-b3af1cba34c8",
   "metadata": {},
   "source": [
    "11. What does the sentence import areallyourpetsnamederic do?"
   ]
  },
  {
   "cell_type": "code",
   "execution_count": 43,
   "id": "f7fdb8de-2a7d-48ed-9be6-1e7f788a9f5b",
   "metadata": {},
   "outputs": [
    {
     "name": "stdout",
     "output_type": "stream",
     "text": [
      "it will throw the error because the module is not available. If its available then thie module will be loaded onto memory.\n"
     ]
    },
    {
     "ename": "ModuleNotFoundError",
     "evalue": "No module named 'areallyourpetsnamederic'",
     "output_type": "error",
     "traceback": [
      "\u001b[0;31m---------------------------------------------------------------------------\u001b[0m",
      "\u001b[0;31mModuleNotFoundError\u001b[0m                       Traceback (most recent call last)",
      "Cell \u001b[0;32mIn [43], line 4\u001b[0m\n\u001b[1;32m      1\u001b[0m \u001b[38;5;66;03m# Answer \u001b[39;00m\n\u001b[1;32m      3\u001b[0m \u001b[38;5;28mprint\u001b[39m(\u001b[38;5;124m'\u001b[39m\u001b[38;5;124mit will throw the error because the module is not available. If its available then thie module will be loaded onto memory.\u001b[39m\u001b[38;5;124m'\u001b[39m)\n\u001b[0;32m----> 4\u001b[0m \u001b[38;5;28;01mimport\u001b[39;00m \u001b[38;5;21;01mareallyourpetsnamederic\u001b[39;00m\n",
      "\u001b[0;31mModuleNotFoundError\u001b[0m: No module named 'areallyourpetsnamederic'"
     ]
    }
   ],
   "source": [
    "# Answer \n",
    "\n",
    "print('it will throw the error because the module is not available. If its available then thie module will be loaded onto memory.')\n",
    "import areallyourpetsnamederic\n"
   ]
  },
  {
   "cell_type": "markdown",
   "id": "551b12d4-2c56-4b0b-8b03-457a5ded3dec",
   "metadata": {},
   "source": [
    "12. If you had a bacon() feature in a spam module, what would you call it after importing spam?"
   ]
  },
  {
   "cell_type": "code",
   "execution_count": 12,
   "id": "3608f5b0-4b80-4fb3-aaa1-0da5ba0d1b88",
   "metadata": {},
   "outputs": [
    {
     "name": "stdout",
     "output_type": "stream",
     "text": [
      "import spam\n",
      "from spam import bacon\n",
      "pam --> it's a module\n",
      "acon --> it's a method\n",
      "print(spam.bacon(something))\n",
      "print(bacon(something))\n"
     ]
    }
   ],
   "source": [
    "# Answer \n",
    "\n",
    "method1 = 'import spam'\n",
    "method2 = 'from spam import bacon'\n",
    "a = \"pam --> it's a module\"\n",
    "b = \"acon --> it's a method\"\n",
    "call_method1 = 'print(spam.bacon(something))'\n",
    "call_method2 = 'print(bacon(something))'\n",
    "\n",
    "print(method1)\n",
    "print(method2)\n",
    "print(a)\n",
    "print(b)\n",
    "print(call_method1)\n",
    "print(call_method2)"
   ]
  },
  {
   "cell_type": "markdown",
   "id": "ead42f3f-415f-44f7-a518-5252fab671fc",
   "metadata": {},
   "source": [
    "13. What can you do to save a programme from crashing if it encounters an error?"
   ]
  },
  {
   "cell_type": "code",
   "execution_count": 13,
   "id": "1c93ba07-8f25-4876-83b2-37aa228a0023",
   "metadata": {},
   "outputs": [
    {
     "name": "stdout",
     "output_type": "stream",
     "text": [
      "Error Recovered\n"
     ]
    }
   ],
   "source": [
    "# Answer \n",
    "# we can save the program by using below try and except method. \n",
    "\n",
    "a = 1\n",
    "b = 0\n",
    "try:\n",
    "    c = a / b\n",
    "    print('c is: ',c)\n",
    "except ZeroDivisionError:\n",
    "    print('Error Recovered')"
   ]
  },
  {
   "cell_type": "markdown",
   "id": "74b95cbe-164b-49b4-973b-aa164391c555",
   "metadata": {},
   "source": [
    "14. What is the purpose of the try clause? What is the purpose of the except clause?"
   ]
  },
  {
   "cell_type": "code",
   "execution_count": 14,
   "id": "f0aac230-2166-4d3f-958b-1f82f5d5fd02",
   "metadata": {},
   "outputs": [
    {
     "name": "stdout",
     "output_type": "stream",
     "text": [
      "try --> Using try clause we can execute the code even tough the code gets fails\n",
      "except --> if the code gets failed in try block we could add error msg in except clause such that it will trigger the alternate code which is specified below the except clause\n"
     ]
    }
   ],
   "source": [
    "# Answer \n",
    "try_ans = '''try --> Using try clause we can execute the code even tough the code gets fails'''\n",
    "except_ans = '''except --> if the code gets failed in try block we could add error msg in except clause such that it will trigger the alternate code which is specified below the except clause'''\n",
    "print(try_ans)\n",
    "print(except_ans)"
   ]
  },
  {
   "cell_type": "code",
   "execution_count": 19,
   "id": "72a8da29-8756-4aea-97f3-7802e1372a00",
   "metadata": {},
   "outputs": [
    {
     "data": {
      "text/plain": [
       "4"
      ]
     },
     "execution_count": 19,
     "metadata": {},
     "output_type": "execute_result"
    }
   ],
   "source": [
    "a = 1\n",
    "b = 1 << 2\n",
    "b"
   ]
  }
 ],
 "metadata": {
  "kernelspec": {
   "display_name": "Python 3 (ipykernel)",
   "language": "python",
   "name": "python3"
  },
  "language_info": {
   "codemirror_mode": {
    "name": "ipython",
    "version": 3
   },
   "file_extension": ".py",
   "mimetype": "text/x-python",
   "name": "python",
   "nbconvert_exporter": "python",
   "pygments_lexer": "ipython3",
   "version": "3.10.6"
  }
 },
 "nbformat": 4,
 "nbformat_minor": 5
}
